{
 "cells": [
  {
   "cell_type": "code",
   "execution_count": 1,
   "metadata": {},
   "outputs": [
    {
     "ename": "ValueError",
     "evalue": "Found no graph nodes within the requested polygon.",
     "output_type": "error",
     "traceback": [
      "\u001b[0;31m---------------------------------------------------------------------------\u001b[0m",
      "\u001b[0;31mValueError\u001b[0m                                Traceback (most recent call last)",
      "Cell \u001b[0;32mIn[1], line 9\u001b[0m\n\u001b[1;32m      6\u001b[0m place_name \u001b[38;5;241m=\u001b[39m \u001b[38;5;124m\"\u001b[39m\u001b[38;5;124mLos Angeles, California, USA\u001b[39m\u001b[38;5;124m\"\u001b[39m\n\u001b[1;32m      8\u001b[0m \u001b[38;5;66;03m# Download road network for driving\u001b[39;00m\n\u001b[0;32m----> 9\u001b[0m G \u001b[38;5;241m=\u001b[39m ox\u001b[38;5;241m.\u001b[39mgraph_from_place(place_name, network_type\u001b[38;5;241m=\u001b[39m\u001b[38;5;124m\"\u001b[39m\u001b[38;5;124mdrive\u001b[39m\u001b[38;5;124m\"\u001b[39m)\n\u001b[1;32m     11\u001b[0m \u001b[38;5;66;03m# Plot the road network\u001b[39;00m\n\u001b[1;32m     12\u001b[0m fig, ax \u001b[38;5;241m=\u001b[39m plt\u001b[38;5;241m.\u001b[39msubplots(figsize\u001b[38;5;241m=\u001b[39m(\u001b[38;5;241m20\u001b[39m, \u001b[38;5;241m20\u001b[39m))\n",
      "File \u001b[0;32m~/anaconda3/lib/python3.11/site-packages/osmnx/graph.py:391\u001b[0m, in \u001b[0;36mgraph_from_place\u001b[0;34m(query, network_type, simplify, retain_all, truncate_by_edge, which_result, custom_filter)\u001b[0m\n\u001b[1;32m    388\u001b[0m utils\u001b[38;5;241m.\u001b[39mlog(msg, level\u001b[38;5;241m=\u001b[39mlg\u001b[38;5;241m.\u001b[39mINFO)\n\u001b[1;32m    390\u001b[0m \u001b[38;5;66;03m# create graph using this polygon(s) geometry\u001b[39;00m\n\u001b[0;32m--> 391\u001b[0m G \u001b[38;5;241m=\u001b[39m graph_from_polygon(\n\u001b[1;32m    392\u001b[0m     polygon,\n\u001b[1;32m    393\u001b[0m     network_type\u001b[38;5;241m=\u001b[39mnetwork_type,\n\u001b[1;32m    394\u001b[0m     simplify\u001b[38;5;241m=\u001b[39msimplify,\n\u001b[1;32m    395\u001b[0m     retain_all\u001b[38;5;241m=\u001b[39mretain_all,\n\u001b[1;32m    396\u001b[0m     truncate_by_edge\u001b[38;5;241m=\u001b[39mtruncate_by_edge,\n\u001b[1;32m    397\u001b[0m     custom_filter\u001b[38;5;241m=\u001b[39mcustom_filter,\n\u001b[1;32m    398\u001b[0m )\n\u001b[1;32m    400\u001b[0m msg \u001b[38;5;241m=\u001b[39m \u001b[38;5;124mf\u001b[39m\u001b[38;5;124m\"\u001b[39m\u001b[38;5;124mgraph_from_place returned graph with \u001b[39m\u001b[38;5;132;01m{\u001b[39;00m\u001b[38;5;28mlen\u001b[39m(G)\u001b[38;5;132;01m:\u001b[39;00m\u001b[38;5;124m,\u001b[39m\u001b[38;5;132;01m}\u001b[39;00m\u001b[38;5;124m nodes and \u001b[39m\u001b[38;5;132;01m{\u001b[39;00m\u001b[38;5;28mlen\u001b[39m(G\u001b[38;5;241m.\u001b[39medges)\u001b[38;5;132;01m:\u001b[39;00m\u001b[38;5;124m,\u001b[39m\u001b[38;5;132;01m}\u001b[39;00m\u001b[38;5;124m edges\u001b[39m\u001b[38;5;124m\"\u001b[39m\n\u001b[1;32m    401\u001b[0m utils\u001b[38;5;241m.\u001b[39mlog(msg, level\u001b[38;5;241m=\u001b[39mlg\u001b[38;5;241m.\u001b[39mINFO)\n",
      "File \u001b[0;32m~/anaconda3/lib/python3.11/site-packages/osmnx/graph.py:511\u001b[0m, in \u001b[0;36mgraph_from_polygon\u001b[0;34m(polygon, network_type, simplify, retain_all, truncate_by_edge, custom_filter)\u001b[0m\n\u001b[1;32m    504\u001b[0m     G_buff \u001b[38;5;241m=\u001b[39m simplification\u001b[38;5;241m.\u001b[39msimplify_graph(G_buff)\n\u001b[1;32m    506\u001b[0m \u001b[38;5;66;03m# truncate graph by original polygon to return graph within polygon\u001b[39;00m\n\u001b[1;32m    507\u001b[0m \u001b[38;5;66;03m# caller wants. don't simplify again: this allows us to retain\u001b[39;00m\n\u001b[1;32m    508\u001b[0m \u001b[38;5;66;03m# intersections along the street that may now only connect 2 street\u001b[39;00m\n\u001b[1;32m    509\u001b[0m \u001b[38;5;66;03m# segments in the network, but in reality also connect to an\u001b[39;00m\n\u001b[1;32m    510\u001b[0m \u001b[38;5;66;03m# intersection just outside the polygon\u001b[39;00m\n\u001b[0;32m--> 511\u001b[0m G \u001b[38;5;241m=\u001b[39m truncate\u001b[38;5;241m.\u001b[39mtruncate_graph_polygon(G_buff, polygon, truncate_by_edge\u001b[38;5;241m=\u001b[39mtruncate_by_edge)\n\u001b[1;32m    513\u001b[0m \u001b[38;5;66;03m# keep only the largest weakly connected component if retain_all is False\u001b[39;00m\n\u001b[1;32m    514\u001b[0m \u001b[38;5;66;03m# we're doing this again in case the last truncate disconnected anything\u001b[39;00m\n\u001b[1;32m    515\u001b[0m \u001b[38;5;66;03m# on the periphery\u001b[39;00m\n\u001b[1;32m    516\u001b[0m \u001b[38;5;28;01mif\u001b[39;00m \u001b[38;5;129;01mnot\u001b[39;00m retain_all:\n",
      "File \u001b[0;32m~/anaconda3/lib/python3.11/site-packages/osmnx/truncate.py:133\u001b[0m, in \u001b[0;36mtruncate_graph_polygon\u001b[0;34m(G, polygon, truncate_by_edge)\u001b[0m\n\u001b[1;32m    130\u001b[0m \u001b[38;5;28;01mif\u001b[39;00m \u001b[38;5;28mlen\u001b[39m(to_keep) \u001b[38;5;241m==\u001b[39m \u001b[38;5;241m0\u001b[39m:\n\u001b[1;32m    131\u001b[0m     \u001b[38;5;66;03m# no graph nodes within the polygon: can't create a graph from that\u001b[39;00m\n\u001b[1;32m    132\u001b[0m     msg \u001b[38;5;241m=\u001b[39m \u001b[38;5;124m\"\u001b[39m\u001b[38;5;124mFound no graph nodes within the requested polygon.\u001b[39m\u001b[38;5;124m\"\u001b[39m\n\u001b[0;32m--> 133\u001b[0m     \u001b[38;5;28;01mraise\u001b[39;00m \u001b[38;5;167;01mValueError\u001b[39;00m(msg)\n\u001b[1;32m    135\u001b[0m \u001b[38;5;66;03m# now identify all nodes whose point geometries lie outside the polygon\u001b[39;00m\n\u001b[1;32m    136\u001b[0m gs_nodes_outside_poly \u001b[38;5;241m=\u001b[39m gs_nodes[\u001b[38;5;241m~\u001b[39mgs_nodes\u001b[38;5;241m.\u001b[39mindex\u001b[38;5;241m.\u001b[39misin(to_keep)]\n",
      "\u001b[0;31mValueError\u001b[0m: Found no graph nodes within the requested polygon."
     ]
    }
   ],
   "source": [
    "import osmnx as ox\n",
    "import networkx as nx\n",
    "import matplotlib.pyplot as plt\n",
    "\n",
    "# Define the area (Los Angeles, California)\n",
    "place_name = \"Los Angeles, California, USA\"\n",
    "\n",
    "# Download road network for driving\n",
    "G = ox.graph_from_place(place_name, network_type=\"drive\")\n",
    "\n",
    "# Plot the road network\n",
    "fig, ax = plt.subplots(figsize=(20, 20))\n",
    "ox.plot_graph(G, ax=ax, node_size=5, edge_color=\"red\")\n",
    "plt.show()\n"
   ]
  },
  {
   "cell_type": "code",
   "execution_count": 4,
   "metadata": {},
   "outputs": [
    {
     "name": "stdout",
     "output_type": "stream",
     "text": [
      "{'n': 49486, 'm': 135884, 'k_avg': 5.491815867113931, 'edge_length_total': 20852501.121315375, 'edge_length_avg': 153.45810486382044, 'streets_per_node_avg': 2.9523299519055897, 'streets_per_node_counts': {0: 0, 1: 8205, 2: 289, 3: 27062, 4: 13543, 5: 364, 6: 23}, 'streets_per_node_proportions': {0: 0.0, 1: 0.16580446995109727, 2: 0.005840035565614517, 3: 0.5468617386735642, 4: 0.273673362163036, 5: 0.00735561572970133, 6: 0.00046477791698662247}, 'intersection_count': 41281, 'street_length_total': 11310199.023369057, 'street_segment_count': 72499, 'street_length_avg': 156.00489694159998, 'circuity_avg': 1.04640425491564, 'self_loop_proportion': 0.0010758769086470158}\n"
     ]
    }
   ],
   "source": [
    "# Convert to a NetworkX graph\n",
    "place_name = \"Los Angeles, California, USA\"\n",
    "G = ox.graph_from_place(place_name, network_type=\"drive\")\n",
    "G = ox.add_edge_speeds(G)  # Adds speed limits\n",
    "G = ox.add_edge_travel_times(G)  # Adds travel time\n",
    "\n",
    "# Show basic stats\n",
    "print(ox.basic_stats(G))\n"
   ]
  },
  {
   "cell_type": "code",
   "execution_count": null,
   "metadata": {},
   "outputs": [],
   "source": [
    "import networkx as nx\n",
    "import pandas as pd\n",
    "import numpy as np\n",
    "import matplotlib.pyplot as plt\n",
    "import folium\n",
    "\n",
    "# Step 1: Load Fire Prediction Data\n",
    "# Simulated fire risk data (In real implementation, load actual predictions)\n",
    "fire_data = {\n",
    "    'location': ['A', 'B', 'C', 'D', 'E'],\n",
    "    'fire_risk': [0.9, 0.7, 0.3, 0.1, 0.05]  # Higher value = higher risk\n",
    "}\n",
    "fire_df = pd.DataFrame(fire_data)\n",
    "\n",
    "# Step 2: Define Road Network as a Graph\n",
    "G = nx.DiGraph()\n",
    "\n",
    "# Nodes (Locations) for Los Angeles to Fresno region\n",
    "locations = {\n",
    "    'A': (34.0522, -118.2437),  # Los Angeles\n",
    "    'B': (35.0522, -118.2437),\n",
    "    'C': (36.0522, -118.2437),\n",
    "    'D': (36.7783, -119.4179),  # Fresno\n",
    "}\n",
    "\n",
    "for loc, coords in locations.items():\n",
    "    G.add_node(loc, pos=coords)\n",
    "\n",
    "# Edges (Roads with weights)\n",
    "roads = [\n",
    "    ('A', 'B', 50), ('B', 'C', 60), ('C', 'D', 80),\n",
    "    ('A', 'C', 120), ('B', 'D', 140), ('A', 'D', 160)\n",
    "]\n",
    "\n",
    "for u, v, dist in roads:\n",
    "    fire_risk = max(fire_df[fire_df['location'] == u]['fire_risk'].values[0], \n",
    "                    fire_df[fire_df['location'] == v]['fire_risk'].values[0])\n",
    "    \n",
    "    weight = dist + (fire_risk * 50)  # Higher weight for high fire risk\n",
    "    G.add_edge(u, v, weight=weight)\n",
    "\n",
    "# Step 3: Apply Bellman-Ford Algorithm\n",
    "source = 'A'  # Evacuation start point (Los Angeles)\n",
    "safe_zone = 'D'  # Destination (Fresno)\n",
    "\n",
    "shortest_paths = nx.single_source_bellman_ford_path(G, source)\n",
    "shortest_distance = nx.single_source_bellman_ford_path_length(G, source)\n",
    "\n",
    "# Print evacuation route\n",
    "print(f\"Optimal Evacuation Route from {source} to {safe_zone}: {shortest_paths[safe_zone]}\")\n",
    "print(f\"Total Risk-Adjusted Distance: {shortest_distance[safe_zone]}\")\n",
    "\n",
    "# Step 4: Visualize Road Network and Evacuation Route\n",
    "plt.figure(figsize=(8,6))\n",
    "pos = nx.spring_layout(G, seed=42)  \n",
    "nx.draw(G, pos, with_labels=True, node_color='lightblue', node_size=2000, font_size=10)\n",
    "edge_labels = {(u, v): f\"{d['weight']:.1f}\" for u, v, d in G.edges(data=True)}\n",
    "nx.draw_networkx_edge_labels(G, pos, edge_labels=edge_labels)\n",
    "plt.title(\"Graph Representation of Road Network and Fire Risk\")\n",
    "plt.show()\n",
    "\n",
    "# Step 5: Interactive Map Visualization\n",
    "m = folium.Map(location=[34.0522, -118.2437], zoom_start=7)  # Los Angeles as center\n",
    "\n",
    "# Add nodes to the map\n",
    "for loc, coords in locations.items():\n",
    "    folium.Marker(location=coords, popup=loc, icon=folium.Icon(color='blue' if loc != safe_zone else 'green')).add_to(m)\n",
    "\n",
    "# Add evacuation route to the map\n",
    "route_coords = [locations[node] for node in shortest_paths[safe_zone]]\n",
    "folium.PolyLine(route_coords, color=\"red\", weight=5, opacity=0.8).add_to(m)\n",
    "\n",
    "# Save and show the map\n",
    "m.save(\"evacuation_route.html\")\n",
    "print(\"Evacuation route map saved as 'evacuation_route.html'\")\n"
   ]
  },
  {
   "cell_type": "code",
   "execution_count": null,
   "metadata": {},
   "outputs": [],
   "source": [
    "# Define evacuation start and destination\n",
    "start_location = (34.0522, -118.2437)  # Example: Los Angeles\n",
    "end_location = (36.7783, -119.4179)  # Example: Fresno\n",
    "\n",
    "# Get nearest nodes on the graph\n",
    "orig_node = ox.distance.nearest_nodes(G, start_location[1], start_location[0])\n",
    "dest_node = ox.distance.nearest_nodes(G, end_location[1], end_location[0])\n",
    "\n",
    "# Compute the shortest safe path (Dijkstra)\n",
    "route = nx.shortest_path(G, orig_node, dest_node, weight=\"weight\")\n",
    "\n",
    "# Plot the route\n",
    "fig, ax = plt.subplots(figsize=(10, 10))\n",
    "ox.plot_graph_route(G, route, ax=ax, route_linewidth=3, node_size=10, bgcolor=\"white\")\n",
    "plt.show()\n"
   ]
  },
  {
   "cell_type": "code",
   "execution_count": 2,
   "metadata": {},
   "outputs": [
    {
     "name": "stderr",
     "output_type": "stream",
     "text": [
      "/var/folders/38/r3s95nn95pdc495czjk5w07h0000gn/T/ipykernel_21944/2165164667.py:19: UserWarning: Geometry is in a geographic CRS. Results from 'centroid' are likely incorrect. Use 'GeoSeries.to_crs()' to re-project geometries to a projected CRS before this operation.\n",
      "\n",
      "  center = (gdf_edges.geometry.centroid.y.mean(), gdf_edges.geometry.centroid.x.mean())\n"
     ]
    },
    {
     "name": "stdout",
     "output_type": "stream",
     "text": [
      "Map saved as fire_risk_map.html\n"
     ]
    }
   ],
   "source": [
    "import folium\n",
    "import osmnx as ox\n",
    "import geopandas as gpd\n",
    "import random\n",
    "\n",
    "# Define a suburb in LA (e.g., Pasadena)\n",
    "place_name = \"Pasadena, Los Angeles, California, USA\"\n",
    "\n",
    "# Get the street network\n",
    "G = ox.graph_from_place(place_name, network_type='drive')\n",
    "\n",
    "# Convert to a GeoDataFrame\n",
    "gdf_edges = ox.graph_to_gdfs(G, nodes=False, edges=True)\n",
    "\n",
    "# Assign random fire risk weights (0-1 scale) for visualization\n",
    "gdf_edges[\"fire_risk\"] = [random.uniform(0, 1) for _ in range(len(gdf_edges))]\n",
    "\n",
    "# Create a folium map centered around Pasadena\n",
    "center = (gdf_edges.geometry.centroid.y.mean(), gdf_edges.geometry.centroid.x.mean())\n",
    "map_osm = folium.Map(location=center, zoom_start=13)\n",
    "\n",
    "# Define a color scale based on fire risk\n",
    "def get_color(risk):\n",
    "    if risk < 0.3:\n",
    "        return \"green\"\n",
    "    elif risk < 0.6:\n",
    "        return \"orange\"\n",
    "    else:\n",
    "        return \"red\"\n",
    "\n",
    "# Add edges to the map\n",
    "for _, row in gdf_edges.iterrows():\n",
    "    coords = list(row.geometry.coords)\n",
    "    line = [(lat, lon) for lon, lat in coords]\n",
    "    folium.PolyLine(\n",
    "        line, color=get_color(row[\"fire_risk\"]), weight=3, opacity=0.8\n",
    "    ).add_to(map_osm)\n",
    "\n",
    "# Show the map\n",
    "map_osm.save(\"fire_risk_map.html\")\n",
    "print(\"Map saved as fire_risk_map.html\")\n"
   ]
  },
  {
   "cell_type": "code",
   "execution_count": 10,
   "metadata": {},
   "outputs": [
    {
     "name": "stdout",
     "output_type": "stream",
     "text": [
      "Map saved as heatmap_map.html\n"
     ]
    }
   ],
   "source": [
    "import rasterio\n",
    "import numpy as np\n",
    "import folium\n",
    "import matplotlib.pyplot as plt\n",
    "from rasterio.plot import show\n",
    "from folium.raster_layers import ImageOverlay\n",
    "\n",
    "# Load heatmap (GeoTIFF)\n",
    "heatmap_path = \"../2019-03-07.tif\"\n",
    "with rasterio.open(heatmap_path) as src:\n",
    "    heatmap = src.read(1)  # Read first band\n",
    "    bounds = [[src.bounds.bottom, src.bounds.left], [src.bounds.top, src.bounds.right]]\n",
    "\n",
    "# Normalize heatmap values (0 to 255)\n",
    "heatmap = np.interp(heatmap, (heatmap.min(), heatmap.max()), (0, 255))\n",
    "\n",
    "# Save as an image\n",
    "plt.imsave(\"heatmap.png\", heatmap, cmap=\"hot\")\n",
    "\n",
    "# Create a folium map centered on the raster's geographic extent\n",
    "m = folium.Map(location=[(bounds[0][0] + bounds[1][0]) / 2, (bounds[0][1] + bounds[1][1]) / 2], zoom_start=10)\n",
    "\n",
    "# Overlay heatmap on OpenStreetMap\n",
    "ImageOverlay(\n",
    "    image=\"heatmap.png\",\n",
    "    bounds=bounds,\n",
    "    opacity=0.6,\n",
    ").add_to(m)\n",
    "\n",
    "# Save and show the map\n",
    "m.save(\"heatmap_map.html\")\n",
    "print(\"Map saved as heatmap_map.html\")\n"
   ]
  },
  {
   "cell_type": "code",
   "execution_count": null,
   "metadata": {},
   "outputs": [],
   "source": []
  }
 ],
 "metadata": {
  "kernelspec": {
   "display_name": "base",
   "language": "python",
   "name": "python3"
  },
  "language_info": {
   "codemirror_mode": {
    "name": "ipython",
    "version": 3
   },
   "file_extension": ".py",
   "mimetype": "text/x-python",
   "name": "python",
   "nbconvert_exporter": "python",
   "pygments_lexer": "ipython3",
   "version": "3.11.5"
  }
 },
 "nbformat": 4,
 "nbformat_minor": 2
}
